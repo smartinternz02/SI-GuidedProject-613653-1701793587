{
 "cells": [
  {
   "cell_type": "code",
   "execution_count": 1,
   "id": "082858fb",
   "metadata": {},
   "outputs": [],
   "source": [
    "from flask import Flask, render_template,request\n",
    "import pickle"
   ]
  },
  {
   "cell_type": "code",
   "execution_count": 2,
   "id": "2d896aae",
   "metadata": {},
   "outputs": [],
   "source": [
    "model = pickle.load(open('model.pkl','rb'))\n",
    "app = Flask(__name__)"
   ]
  },
  {
   "cell_type": "code",
   "execution_count": 3,
   "id": "fc018198",
   "metadata": {},
   "outputs": [],
   "source": [
    "@app.route(\"/home\")\n",
    "def home():\n",
    "    return render_template('home.html')"
   ]
  },
  {
   "cell_type": "code",
   "execution_count": 6,
   "id": "bf2a9a54",
   "metadata": {},
   "outputs": [],
   "source": [
    "@app.route(\"/pred\", methods=['POST'])\n",
    "def make_predict():\n",
    "    Administrative = request.form['Administrative']\n",
    "    Administrative_Duration = request.form['Administrative_Duration']\n",
    "    Informational = request.form['Informational']\n",
    "    Informational_Duration = request.form['Informational_Duration']\n",
    "    ProductRelated = request.form['ProductRelated']\n",
    "    ProductRelated_Duration = request.form['ProductRelated_Duration']\n",
    "    BounceRates = request.form['BounceRates']\n",
    "    ExitRates = request.form['ExitRates']\n",
    "    PageValues = request.form['PageValues']\n",
    "    SpecialDay = request.form['SpecialDay']\n",
    "    Month = request.form['Month']\n",
    "    OperatingSystems = request.form['OperatingSystems']\n",
    "    Browser = request.form['Browser']\n",
    "    Region = request.form['Region']\n",
    "    TrafficType = request.form['TrafficType']\n",
    "    VisitorType = request.form['VisitorType']\n",
    "    Weekend = request.form['Weekend']\n",
    "    total=[[int(Administrative),float(Administartive_Duration),int(Informational),float(Informational_duration),\n",
    "           int(ProductRelated),float(ProductRelated_duration),float(BounceRates),float(ExitRates),float(PageValues),\n",
    "           float(SpecialDay),int(Month),int(OperatingSystem),int(Browser),int(Region),int(TrafficType),int(VisitorType),\n",
    "           int(Weekend)]]\n",
    "    print(total)\n",
    "    prediction = model.predict(total)\n",
    "    print(prediction)\n",
    "    if prediction == 0:\n",
    "        print('the visitor is not intrested in buying')\n",
    "    else:\n",
    "        print('the visitor is intrested in buying goods')\n",
    "    return render_template('submit.html',prediction_txt=txt)"
   ]
  },
  {
   "cell_type": "code",
   "execution_count": null,
   "id": "0229e205",
   "metadata": {},
   "outputs": [
    {
     "name": "stdout",
     "output_type": "stream",
     "text": [
      " * Serving Flask app '__main__'\n",
      " * Debug mode: off\n"
     ]
    },
    {
     "name": "stderr",
     "output_type": "stream",
     "text": [
      "\u001b[31m\u001b[1mWARNING: This is a development server. Do not use it in a production deployment. Use a production WSGI server instead.\u001b[0m\n",
      " * Running on http://127.0.0.1:5000\n",
      "\u001b[33mPress CTRL+C to quit\u001b[0m\n",
      "127.0.0.1 - - [09/Dec/2023 10:09:11] \"\u001b[33mGET / HTTP/1.1\u001b[0m\" 404 -\n",
      "127.0.0.1 - - [09/Dec/2023 10:09:11] \"\u001b[33mGET /favicon.ico HTTP/1.1\u001b[0m\" 404 -\n",
      "127.0.0.1 - - [09/Dec/2023 10:09:18] \"\u001b[33mGET / HTTP/1.1\u001b[0m\" 404 -\n",
      "127.0.0.1 - - [09/Dec/2023 10:12:10] \"\u001b[33mGET / HTTP/1.1\u001b[0m\" 404 -\n"
     ]
    }
   ],
   "source": [
    "if __name__ == \"__main__\":\n",
    "    app.run(debug=False)"
   ]
  }
 ],
 "metadata": {
  "kernelspec": {
   "display_name": "Python 3 (ipykernel)",
   "language": "python",
   "name": "python3"
  },
  "language_info": {
   "codemirror_mode": {
    "name": "ipython",
    "version": 3
   },
   "file_extension": ".py",
   "mimetype": "text/x-python",
   "name": "python",
   "nbconvert_exporter": "python",
   "pygments_lexer": "ipython3",
   "version": "3.11.4"
  }
 },
 "nbformat": 4,
 "nbformat_minor": 5
}
